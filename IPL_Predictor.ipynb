{
 "cells": [
  {
   "cell_type": "code",
   "execution_count": 2,
   "id": "82c43e5b",
   "metadata": {},
   "outputs": [
    {
     "ename": "ModuleNotFoundError",
     "evalue": "No module named 'pandas'",
     "output_type": "error",
     "traceback": [
      "\u001b[1;31m---------------------------------------------------------------------------\u001b[0m",
      "\u001b[1;31mModuleNotFoundError\u001b[0m                       Traceback (most recent call last)",
      "Cell \u001b[1;32mIn[2], line 1\u001b[0m\n\u001b[1;32m----> 1\u001b[0m \u001b[38;5;28;01mimport\u001b[39;00m \u001b[38;5;21;01mpandas\u001b[39;00m \u001b[38;5;28;01mas\u001b[39;00m \u001b[38;5;21;01mpd\u001b[39;00m\n\u001b[0;32m      2\u001b[0m \u001b[38;5;28;01mimport\u001b[39;00m \u001b[38;5;21;01mwarnings\u001b[39;00m\n\u001b[0;32m      3\u001b[0m warnings\u001b[38;5;241m.\u001b[39mfilterwarnings(\u001b[38;5;124m\"\u001b[39m\u001b[38;5;124mignore\u001b[39m\u001b[38;5;124m\"\u001b[39m)\n",
      "\u001b[1;31mModuleNotFoundError\u001b[0m: No module named 'pandas'"
     ]
    }
   ],
   "source": [
    "import pandas as pd\n",
    "import warnings\n",
    "warnings.filterwarnings(\"ignore\")"
   ]
  },
  {
   "cell_type": "code",
   "execution_count": null,
   "id": "899bf958",
   "metadata": {},
   "outputs": [],
   "source": [
    "first_dataset = pd.read_csv('dataset.csv')\n",
    "first_dataset.head(10)"
   ]
  },
  {
   "cell_type": "code",
   "execution_count": null,
   "id": "be093278",
   "metadata": {},
   "outputs": [],
   "source": [
    "second_dataset = pd.read_csv('IPL Matches 2008-2020.csv')\n",
    "second_dataset.head()"
   ]
  },
  {
   "cell_type": "code",
   "execution_count": null,
   "id": "b6ddccb5",
   "metadata": {},
   "outputs": [],
   "source": [
    "total_runs = first_dataset.groupby(['match_id','inning']).sum()['total_runs'].add(1).reset_index()"
   ]
  },
  {
   "cell_type": "code",
   "execution_count": null,
   "id": "66f21b20",
   "metadata": {},
   "outputs": [],
   "source": [
    "total_runs = total_runs[total_runs['inning']==1]"
   ]
  },
  {
   "cell_type": "code",
   "execution_count": null,
   "id": "79dfc71d",
   "metadata": {},
   "outputs": [],
   "source": [
    "total_runs"
   ]
  },
  {
   "cell_type": "code",
   "execution_count": null,
   "id": "34925d1c",
   "metadata": {},
   "outputs": [],
   "source": [
    "match_df = second_dataset.merge(total_runs[['match_id','total_runs']],left_on='id',right_on='match_id')"
   ]
  },
  {
   "cell_type": "code",
   "execution_count": null,
   "id": "be5c4e53",
   "metadata": {},
   "outputs": [],
   "source": [
    "match_df"
   ]
  },
  {
   "cell_type": "code",
   "execution_count": null,
   "id": "5db8d544",
   "metadata": {},
   "outputs": [],
   "source": [
    "match_df['team1'].value_counts()"
   ]
  },
  {
   "cell_type": "code",
   "execution_count": null,
   "id": "9dc75a74",
   "metadata": {},
   "outputs": [],
   "source": [
    "match_df['team1'] = match_df['team1'].replace('Delhi Daredevils','Delhi Capitals')\n",
    "match_df['team2'] = match_df['team2'].replace('Delhi Daredevils','Delhi Capitals')\n",
    "\n",
    "match_df['team1'] = match_df['team1'].replace('Deccan Chargers','Sunrisers Hyderabad')\n",
    "match_df['team2'] = match_df['team2'].replace('Deccan Chargers','Sunrisers Hyderabad')\n"
   ]
  },
  {
   "cell_type": "code",
   "execution_count": null,
   "id": "bc92fe41",
   "metadata": {},
   "outputs": [],
   "source": [
    "teams = ['Kolkata Knight Riders', \n",
    "         'Chennai Super Kings',\n",
    "         'Kings XI Punjab', \n",
    "         'Rajasthan Royals',\n",
    "         'Mumbai Indians',\n",
    "         'Delhi Capitals',\n",
    "         'Royal Challengers Bangalore',\n",
    "         'Sunrisers Hyderabad']"
   ]
  },
  {
   "cell_type": "code",
   "execution_count": null,
   "id": "3b6d22a6",
   "metadata": {},
   "outputs": [],
   "source": [
    "match_df = match_df[match_df['team1'].isin(teams)]\n",
    "match_df = match_df[match_df['team2'].isin(teams)]"
   ]
  },
  {
   "cell_type": "code",
   "execution_count": null,
   "id": "40e28e94",
   "metadata": {},
   "outputs": [],
   "source": [
    "match_df['team1'].value_counts()"
   ]
  },
  {
   "cell_type": "code",
   "execution_count": null,
   "id": "aa3bafa9",
   "metadata": {},
   "outputs": [],
   "source": [
    "match_df['team2'].value_counts()"
   ]
  },
  {
   "cell_type": "code",
   "execution_count": null,
   "id": "f9d54bcf",
   "metadata": {},
   "outputs": [],
   "source": [
    "match_df.shape"
   ]
  },
  {
   "cell_type": "code",
   "execution_count": null,
   "id": "ba2e36c3",
   "metadata": {},
   "outputs": [],
   "source": [
    "match_df"
   ]
  },
  {
   "cell_type": "code",
   "execution_count": null,
   "id": "7c4c515e",
   "metadata": {},
   "outputs": [],
   "source": [
    "match_df = match_df[['id','city','winner','total_runs']]"
   ]
  },
  {
   "cell_type": "code",
   "execution_count": null,
   "id": "c78c1c37",
   "metadata": {},
   "outputs": [],
   "source": [
    "match_df = match_df.rename(columns={'id':'match_id'})"
   ]
  },
  {
   "cell_type": "code",
   "execution_count": null,
   "id": "74d3273b",
   "metadata": {},
   "outputs": [],
   "source": [
    "second_innings = match_df.merge(first_dataset,on='match_id')\n",
    "second_innings"
   ]
  },
  {
   "cell_type": "code",
   "execution_count": null,
   "id": "53baa60b",
   "metadata": {},
   "outputs": [],
   "source": [
    "second_innings = second_innings[second_innings['inning']==2]\n",
    "second_innings.shape"
   ]
  },
  {
   "cell_type": "code",
   "execution_count": null,
   "id": "03d05c76",
   "metadata": {},
   "outputs": [],
   "source": [
    "second_innings['batting_team'] = second_innings['batting_team'].replace('Delhi Daredevils','Delhi Capitals')\n",
    "second_innings['bowling_team'] = second_innings['bowling_team'].replace('Delhi Daredevils','Delhi Capitals')\n",
    "\n",
    "second_innings['batting_team'] = second_innings['batting_team'].replace('Deccan Chargers','Sunrisers Hyderabad')\n",
    "second_innings['bowling_team'] = second_innings['bowling_team'].replace('Deccan Chargers','Sunrisers Hyderabad')"
   ]
  },
  {
   "cell_type": "code",
   "execution_count": null,
   "id": "7dffc6ea",
   "metadata": {},
   "outputs": [],
   "source": [
    "second_innings['batting_team'].unique()"
   ]
  },
  {
   "cell_type": "code",
   "execution_count": null,
   "id": "e80a5b14",
   "metadata": {},
   "outputs": [],
   "source": [
    "second_innings['current_Score'] = second_innings.groupby('match_id').cumsum()['total_runs_y']\n",
    "second_innings"
   ]
  },
  {
   "cell_type": "code",
   "execution_count": null,
   "id": "a7f361ac",
   "metadata": {},
   "outputs": [],
   "source": [
    "second_innings['runs_left'] = second_innings['total_runs_x'] - second_innings['current_Score']\n",
    "second_innings"
   ]
  },
  {
   "cell_type": "code",
   "execution_count": null,
   "id": "8e64566c",
   "metadata": {},
   "outputs": [],
   "source": [
    "second_innings['balls_left'] = 126 - (second_innings['over']*6 +second_innings['ball'])\n",
    "second_innings"
   ]
  },
  {
   "cell_type": "markdown",
   "id": "b6810589",
   "metadata": {},
   "source": [
    "## Getting wickets"
   ]
  },
  {
   "cell_type": "code",
   "execution_count": null,
   "id": "2d4fe983",
   "metadata": {},
   "outputs": [],
   "source": [
    "second_innings['player_dismissed'] = second_innings['player_dismissed'].fillna(\"0\")\n",
    "second_innings['player_dismissed'] = second_innings['player_dismissed'].apply(lambda x:x if x==\"0\" else \"1\")\n",
    "second_innings['player_dismissed'] = second_innings['player_dismissed'].astype('int')\n",
    "wickets = second_innings.groupby('match_id').cumsum()['player_dismissed']\n",
    "second_innings['wickets_remaining'] = 10-wickets\n",
    "second_innings"
   ]
  },
  {
   "cell_type": "markdown",
   "id": "1d53cc5e",
   "metadata": {},
   "source": [
    "### Current Run Rate"
   ]
  },
  {
   "cell_type": "code",
   "execution_count": null,
   "id": "690ac262",
   "metadata": {},
   "outputs": [],
   "source": [
    "second_innings['crr'] = round((second_innings['current_Score']*6)/(120 - second_innings['balls_left']),2)\n",
    "second_innings"
   ]
  },
  {
   "cell_type": "markdown",
   "id": "aef964df",
   "metadata": {},
   "source": [
    "### Required Run Rate"
   ]
  },
  {
   "cell_type": "code",
   "execution_count": null,
   "id": "ab58e84b",
   "metadata": {},
   "outputs": [],
   "source": [
    "second_innings['rrr'] = round((second_innings['runs_left']*6)/(second_innings['balls_left']),2)\n",
    "second_innings"
   ]
  },
  {
   "cell_type": "markdown",
   "id": "fbba7034",
   "metadata": {},
   "source": [
    "### finding winner "
   ]
  },
  {
   "cell_type": "code",
   "execution_count": null,
   "id": "a13514aa",
   "metadata": {},
   "outputs": [],
   "source": [
    "def winner(team):\n",
    "    return 1 if team['batting_team'] == team['winner'] else 0"
   ]
  },
  {
   "cell_type": "code",
   "execution_count": null,
   "id": "8d2c2ecc",
   "metadata": {},
   "outputs": [],
   "source": [
    "second_innings['results'] = second_innings.apply(winner,axis=1)\n",
    "second_innings"
   ]
  },
  {
   "cell_type": "markdown",
   "id": "f7871a44",
   "metadata": {},
   "source": [
    "### Only Taking required columns"
   ]
  },
  {
   "cell_type": "code",
   "execution_count": null,
   "id": "385a4055",
   "metadata": {},
   "outputs": [],
   "source": [
    "required_data = second_innings[['batting_team','bowling_team','city','runs_left','balls_left','wickets_remaining','total_runs_x','crr','rrr','results']]\n",
    "required_data"
   ]
  },
  {
   "cell_type": "markdown",
   "id": "a0584a2f",
   "metadata": {},
   "source": [
    "### Sampling Data"
   ]
  },
  {
   "cell_type": "code",
   "execution_count": 3,
   "id": "9d982caa",
   "metadata": {},
   "outputs": [
    {
     "ename": "NameError",
     "evalue": "name 'required_data' is not defined",
     "output_type": "error",
     "traceback": [
      "\u001b[1;31m---------------------------------------------------------------------------\u001b[0m",
      "\u001b[1;31mNameError\u001b[0m                                 Traceback (most recent call last)",
      "Cell \u001b[1;32mIn[3], line 1\u001b[0m\n\u001b[1;32m----> 1\u001b[0m final_data \u001b[38;5;241m=\u001b[39m \u001b[43mrequired_data\u001b[49m\u001b[38;5;241m.\u001b[39msample(required_data\u001b[38;5;241m.\u001b[39mshape[\u001b[38;5;241m0\u001b[39m])\n",
      "\u001b[1;31mNameError\u001b[0m: name 'required_data' is not defined"
     ]
    }
   ],
   "source": [
    "final_data = required_data.sample(required_data.shape[0])"
   ]
  },
  {
   "cell_type": "code",
   "execution_count": null,
   "id": "21265cb8-fe53-4f7d-afde-01ba366954ac",
   "metadata": {},
   "outputs": [],
   "source": []
  },
  {
   "cell_type": "markdown",
   "id": "4851aacd",
   "metadata": {},
   "source": [
    "### Dropping NUll Values"
   ]
  },
  {
   "cell_type": "code",
   "execution_count": null,
   "id": "ba33cb30",
   "metadata": {},
   "outputs": [],
   "source": [
    "final_data.dropna(inplace=True)"
   ]
  },
  {
   "cell_type": "markdown",
   "id": "ce13d3ab",
   "metadata": {},
   "source": [
    "### Removing rows where balls_left==0 to remove -inf and inf from rrr column"
   ]
  },
  {
   "cell_type": "code",
   "execution_count": null,
   "id": "4ac41461",
   "metadata": {},
   "outputs": [],
   "source": [
    "final_data = final_data[final_data['balls_left']!=0]"
   ]
  },
  {
   "cell_type": "markdown",
   "id": "cd2ebc2f",
   "metadata": {},
   "source": [
    "### Storing data in new csv"
   ]
  },
  {
   "cell_type": "code",
   "execution_count": null,
   "id": "ab8a8fca",
   "metadata": {},
   "outputs": [],
   "source": [
    "final_data.to_csv(\"final_data.csv\", index=False)"
   ]
  },
  {
   "cell_type": "markdown",
   "id": "eee025ac",
   "metadata": {},
   "source": [
    "### Building Model"
   ]
  },
  {
   "cell_type": "code",
   "execution_count": null,
   "id": "25b725b4",
   "metadata": {},
   "outputs": [],
   "source": [
    "from sklearn.model_selection import train_test_split as tts"
   ]
  },
  {
   "cell_type": "code",
   "execution_count": null,
   "id": "03bd981d",
   "metadata": {},
   "outputs": [],
   "source": [
    "x = final_data.iloc[:, :-1]\n",
    "y = final_data.iloc[:,-1]"
   ]
  },
  {
   "cell_type": "code",
   "execution_count": null,
   "id": "052c6aed",
   "metadata": {},
   "outputs": [],
   "source": [
    "x_train,x_test,y_train,y_test = tts(x,y,test_size=0.25,random_state=100)\n",
    "x_train"
   ]
  },
  {
   "cell_type": "code",
   "execution_count": null,
   "id": "d3f37f8e",
   "metadata": {},
   "outputs": [],
   "source": [
    "x_test"
   ]
  },
  {
   "cell_type": "code",
   "execution_count": null,
   "id": "270164bd",
   "metadata": {},
   "outputs": [],
   "source": [
    "from sklearn.compose import ColumnTransformer\n",
    "from sklearn.preprocessing import OneHotEncoder\n",
    "trf = ColumnTransformer([\n",
    "    ('trf',OneHotEncoder(sparse=False,drop='first'),['batting_team','bowling_team','city'])\n",
    "],\n",
    "remainder='passthrough')"
   ]
  },
  {
   "cell_type": "code",
   "execution_count": null,
   "id": "2b11a39e",
   "metadata": {},
   "outputs": [],
   "source": [
    "from sklearn.linear_model import LogisticRegression\n",
    "from sklearn.pipeline import Pipeline\n",
    "\n",
    "pipe = Pipeline([\n",
    "    ('step1',trf),\n",
    "    ('step2',LogisticRegression(solver='liblinear'))\n",
    "])\n"
   ]
  },
  {
   "cell_type": "code",
   "execution_count": null,
   "id": "a0267f25",
   "metadata": {},
   "outputs": [],
   "source": [
    "pipe.fit(x_train,y_train)"
   ]
  },
  {
   "cell_type": "code",
   "execution_count": null,
   "id": "5ec53780",
   "metadata": {},
   "outputs": [],
   "source": [
    "y_pred = pipe.predict(x_test)"
   ]
  },
  {
   "cell_type": "code",
   "execution_count": null,
   "id": "fb007b05",
   "metadata": {},
   "outputs": [],
   "source": [
    "from sklearn.metrics import accuracy_score\n",
    "accuracy_score(y_test,y_pred)"
   ]
  },
  {
   "cell_type": "code",
   "execution_count": null,
   "id": "38af95aa",
   "metadata": {},
   "outputs": [],
   "source": [
    "pipe.predict_proba(x_test)[0]"
   ]
  },
  {
   "cell_type": "code",
   "execution_count": null,
   "id": "ff233652",
   "metadata": {},
   "outputs": [],
   "source": [
    "import pickle\n",
    "pickle.dump(pipe,open('pipe.pkl','wb'))"
   ]
  },
  {
   "cell_type": "code",
   "execution_count": null,
   "id": "d9a41c3d",
   "metadata": {},
   "outputs": [],
   "source": [
    "final_data['city'].unique()"
   ]
  },
  {
   "cell_type": "markdown",
   "id": "d68fc4b0",
   "metadata": {},
   "source": [
    "## Random Forest classifier"
   ]
  },
  {
   "cell_type": "code",
   "execution_count": null,
   "id": "c83501a4",
   "metadata": {},
   "outputs": [],
   "source": [
    "from sklearn.ensemble import RandomForestClassifier\n",
    "trf = ColumnTransformer([\n",
    "    ('trf',OneHotEncoder(sparse=False,drop='first'),['batting_team','bowling_team','city'])\n",
    "],\n",
    "remainder='passthrough')\n",
    "\n",
    "pipe = Pipeline([\n",
    "    ('step1',trf),\n",
    "    ('step2',RandomForestClassifier())\n",
    "])\n",
    "\n",
    "pipe.fit(x_train,y_train)\n",
    "\n",
    "y_pred = pipe.predict(x_test)\n",
    "\n",
    "accuracy_score(y_test,y_pred)\n"
   ]
  },
  {
   "cell_type": "code",
   "execution_count": null,
   "id": "b1eda9ec",
   "metadata": {},
   "outputs": [],
   "source": [
    "pipe.predict_proba(x_test)[0]"
   ]
  },
  {
   "cell_type": "code",
   "execution_count": null,
   "id": "0acb5c13",
   "metadata": {},
   "outputs": [],
   "source": [
    "pickle.dump(pipe,open('pipe2.pkl','wb'))"
   ]
  }
 ],
 "metadata": {
  "kernelspec": {
   "display_name": "Python 3 (ipykernel)",
   "language": "python",
   "name": "python3"
  },
  "language_info": {
   "codemirror_mode": {
    "name": "ipython",
    "version": 3
   },
   "file_extension": ".py",
   "mimetype": "text/x-python",
   "name": "python",
   "nbconvert_exporter": "python",
   "pygments_lexer": "ipython3",
   "version": "3.11.8"
  }
 },
 "nbformat": 4,
 "nbformat_minor": 5
}
